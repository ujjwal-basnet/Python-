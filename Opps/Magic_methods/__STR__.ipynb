{
 "cells": [
  {
   "cell_type": "markdown",
   "id": "5c24404f",
   "metadata": {},
   "source": [
    "### str() is used for end user  menwhile rep() is used for debugging and development \n",
    "### - repr() is more pricise \n"
   ]
  },
  {
   "cell_type": "code",
   "execution_count": 1,
   "id": "acc072c1",
   "metadata": {},
   "outputs": [],
   "source": [
    "name = \"ujjwal basnet\""
   ]
  },
  {
   "cell_type": "code",
   "execution_count": 6,
   "id": "4321fc15",
   "metadata": {},
   "outputs": [
    {
     "name": "stdout",
     "output_type": "stream",
     "text": [
      "ujjwal basnet\n",
      "'ujjwal basnet'\n"
     ]
    }
   ],
   "source": [
    "#printing name with str and rep and looking to their difference \n",
    "print(str(name))\n",
    "print(repr(name)) \n",
    "# the difference is ''"
   ]
  },
  {
   "cell_type": "code",
   "execution_count": null,
   "id": "5ce6d861",
   "metadata": {},
   "outputs": [],
   "source": [
    "import datetime\n",
    "today = datetime.datetime.now()\n",
    "\n",
    "# str disply data and time in a way user undersatants \n",
    "print (str(today))\n",
    "\n",
    "# repr display\n",
    "#“official” representation of a date-time object (means using the “official” string representation \n",
    "print (repr(today))\n"
   ]
  },
  {
   "cell_type": "code",
   "execution_count": 17,
   "id": "bdd2bb98",
   "metadata": {},
   "outputs": [
    {
     "data": {
      "text/plain": [
       "datetime.datetime(2023, 4, 17, 18, 36, 16, 43201)"
      ]
     },
     "execution_count": 17,
     "metadata": {},
     "output_type": "execute_result"
    }
   ],
   "source": [
    "#we can reconstruct the objects  just copy the output .. \n",
    "datetime.datetime(2023, 4, 17, 18, 36, 16, 43201)\n",
    "#the object is reconstructed "
   ]
  },
  {
   "cell_type": "code",
   "execution_count": 16,
   "id": "463b1c33",
   "metadata": {
    "scrolled": true
   },
   "outputs": [
    {
     "ename": "SyntaxError",
     "evalue": "leading zeros in decimal integer literals are not permitted; use an 0o prefix for octal integers (1641035950.py, line 2)",
     "output_type": "error",
     "traceback": [
      "\u001b[1;36m  Cell \u001b[1;32mIn[16], line 2\u001b[1;36m\u001b[0m\n\u001b[1;33m    2023-04-17 18:36:16.043201\u001b[0m\n\u001b[1;37m         ^\u001b[0m\n\u001b[1;31mSyntaxError\u001b[0m\u001b[1;31m:\u001b[0m leading zeros in decimal integer literals are not permitted; use an 0o prefix for octal integers\n"
     ]
    }
   ],
   "source": [
    "#but -> throws error \n",
    "2023-04-17 18:36:16.043201"
   ]
  },
  {
   "cell_type": "code",
   "execution_count": 20,
   "id": "97ae56af",
   "metadata": {
    "scrolled": true
   },
   "outputs": [
    {
     "name": "stdout",
     "output_type": "stream",
     "text": [
      "2023-04-17 18:36:16.043201\n"
     ]
    }
   ],
   "source": [
    "#also \n",
    "print(datetime.datetime(2023, 4, 17, 18, 36, 16, 43201)) \n"
   ]
  },
  {
   "cell_type": "markdown",
   "id": "e9334157",
   "metadata": {},
   "source": [
    "# Class for Complex numbers\n"
   ]
  },
  {
   "cell_type": "code",
   "execution_count": 23,
   "id": "9c073f89",
   "metadata": {},
   "outputs": [],
   "source": [
    "class Comple:\n",
    "    def __init__(self , real , img ):\n",
    "        self.real  = real \n",
    "        self.img  = img\n",
    "    \n",
    "        \n",
    "        "
   ]
  },
  {
   "cell_type": "code",
   "execution_count": null,
   "id": "c3757c24",
   "metadata": {},
   "outputs": [],
   "source": []
  }
 ],
 "metadata": {
  "kernelspec": {
   "display_name": "Python 3 (ipykernel)",
   "language": "python",
   "name": "python3"
  },
  "language_info": {
   "codemirror_mode": {
    "name": "ipython",
    "version": 3
   },
   "file_extension": ".py",
   "mimetype": "text/x-python",
   "name": "python",
   "nbconvert_exporter": "python",
   "pygments_lexer": "ipython3",
   "version": "3.11.1"
  }
 },
 "nbformat": 4,
 "nbformat_minor": 5
}
