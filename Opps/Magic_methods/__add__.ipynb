{
 "cells": [
  {
   "cell_type": "code",
   "execution_count": 1,
   "id": "87cb04be",
   "metadata": {},
   "outputs": [
    {
     "data": {
      "text/plain": [
       "list"
      ]
     },
     "execution_count": 1,
     "metadata": {},
     "output_type": "execute_result"
    }
   ],
   "source": [
    "#does list contains add function \n",
    "x = dir(list())\n",
    "type(x)"
   ]
  },
  {
   "cell_type": "code",
   "execution_count": 2,
   "id": "03b0f5e9",
   "metadata": {},
   "outputs": [
    {
     "data": {
      "text/plain": [
       "True"
      ]
     },
     "execution_count": 2,
     "metadata": {},
     "output_type": "execute_result"
    }
   ],
   "source": [
    "'__add__' in x"
   ]
  },
  {
   "cell_type": "markdown",
   "id": "2d692b66",
   "metadata": {},
   "source": [
    "### It means that  we can \" list1 + list2 \""
   ]
  },
  {
   "cell_type": "code",
   "execution_count": 3,
   "id": "34a90f0b",
   "metadata": {},
   "outputs": [
    {
     "data": {
      "text/plain": [
       "[2, 4, 5, 4, 4, 5]"
      ]
     },
     "execution_count": 3,
     "metadata": {},
     "output_type": "execute_result"
    }
   ],
   "source": [
    "list1 = [2 , 4 , 5 ]\n",
    "list2 = [4 , 4 , 5 ]\n",
    "list1 + list2 #concatinate "
   ]
  },
  {
   "cell_type": "code",
   "execution_count": 4,
   "id": "b4563cee",
   "metadata": {},
   "outputs": [
    {
     "data": {
      "text/plain": [
       "True"
      ]
     },
     "execution_count": 4,
     "metadata": {},
     "output_type": "execute_result"
    }
   ],
   "source": [
    "'__add__' in dir(str())"
   ]
  },
  {
   "cell_type": "code",
   "execution_count": 5,
   "id": "1a7fcc59",
   "metadata": {},
   "outputs": [
    {
     "data": {
      "text/plain": [
       "'ujjwalbasnet'"
      ]
     },
     "execution_count": 5,
     "metadata": {},
     "output_type": "execute_result"
    }
   ],
   "source": [
    "str1 = \"ujjwal\"\n",
    "str2 = \"basnet\"\n",
    "str1 + str2 "
   ]
  },
  {
   "cell_type": "markdown",
   "id": "61345060",
   "metadata": {},
   "source": [
    "# BUT\n"
   ]
  },
  {
   "cell_type": "code",
   "execution_count": 6,
   "id": "3f33f487",
   "metadata": {},
   "outputs": [
    {
     "data": {
      "text/plain": [
       "False"
      ]
     },
     "execution_count": 6,
     "metadata": {},
     "output_type": "execute_result"
    }
   ],
   "source": [
    "'__add__' in dir(set())"
   ]
  },
  {
   "cell_type": "markdown",
   "id": "0f29077c",
   "metadata": {},
   "source": [
    "# SO"
   ]
  },
  {
   "cell_type": "code",
   "execution_count": 7,
   "id": "378eff86",
   "metadata": {},
   "outputs": [
    {
     "ename": "TypeError",
     "evalue": "unsupported operand type(s) for +: 'set' and 'set'",
     "output_type": "error",
     "traceback": [
      "\u001b[1;31m---------------------------------------------------------------------------\u001b[0m",
      "\u001b[1;31mTypeError\u001b[0m                                 Traceback (most recent call last)",
      "Cell \u001b[1;32mIn[7], line 5\u001b[0m\n\u001b[0;32m      2\u001b[0m set2 \u001b[38;5;241m=\u001b[39m {\u001b[38;5;241m3\u001b[39m , \u001b[38;5;241m4\u001b[39m }\n\u001b[0;32m      4\u001b[0m \u001b[38;5;66;03m#throws error \u001b[39;00m\n\u001b[1;32m----> 5\u001b[0m \u001b[43mset1\u001b[49m\u001b[43m \u001b[49m\u001b[38;5;241;43m+\u001b[39;49m\u001b[43m \u001b[49m\u001b[43mset2\u001b[49m\n",
      "\u001b[1;31mTypeError\u001b[0m: unsupported operand type(s) for +: 'set' and 'set'"
     ]
    }
   ],
   "source": [
    "set1 =  {1 , 2 }\n",
    "set2 = {3 , 4 }\n",
    "\n",
    "#throws error \n",
    "set1 + set2"
   ]
  },
  {
   "cell_type": "markdown",
   "id": "5ddb167b",
   "metadata": {},
   "source": [
    "# Lets start Creating own add magic method\n"
   ]
  },
  {
   "cell_type": "code",
   "execution_count": 8,
   "id": "ea148aad",
   "metadata": {},
   "outputs": [],
   "source": [
    "class magic_method:\n",
    "    def __init__(self , num1 , num2 ):\n",
    "        pass\n",
    "    \n",
    "    # if user Use \"+\" then what happends \n",
    "    def __add__(self1 , self2):\n",
    "        print(\"Hi\")\n",
    "    \n",
    "    "
   ]
  },
  {
   "cell_type": "code",
   "execution_count": 9,
   "id": "87c5a073",
   "metadata": {},
   "outputs": [],
   "source": [
    "#creating instanse \n",
    "obj1 = magic_method(5 , 6 )\n",
    "obj2 = magic_method(7 , 7 )"
   ]
  },
  {
   "cell_type": "code",
   "execution_count": null,
   "id": "c0edd6f7",
   "metadata": {},
   "outputs": [],
   "source": []
  },
  {
   "cell_type": "markdown",
   "id": "8ef4223a",
   "metadata": {},
   "source": [
    "## Adding"
   ]
  },
  {
   "cell_type": "code",
   "execution_count": 10,
   "id": "8a0eef15",
   "metadata": {},
   "outputs": [
    {
     "name": "stdout",
     "output_type": "stream",
     "text": [
      "Hi\n"
     ]
    }
   ],
   "source": [
    "#adding \n",
    "obj1 + obj2\n"
   ]
  },
  {
   "cell_type": "code",
   "execution_count": 22,
   "id": "c3df44f1",
   "metadata": {},
   "outputs": [],
   "source": [
    "class numeric:\n",
    "    def __init__(self , num1  , num2):\n",
    "        self.num1 = num1 \n",
    "        self.num2 = num2\n",
    "    def __add__(self1 , self2):\n",
    "        print(self1.num1  + self1.num2 , self2.num2 + self2.num1)"
   ]
  },
  {
   "cell_type": "code",
   "execution_count": 23,
   "id": "81dd2083",
   "metadata": {},
   "outputs": [],
   "source": [
    "obj1 = numeric(5 , 6 )\n",
    "obj2 = numeric(7 , 8 )"
   ]
  },
  {
   "cell_type": "markdown",
   "id": "1dd5c91d",
   "metadata": {},
   "source": [
    "## See"
   ]
  },
  {
   "cell_type": "code",
   "execution_count": 24,
   "id": "7188c137",
   "metadata": {},
   "outputs": [
    {
     "name": "stdout",
     "output_type": "stream",
     "text": [
      "11 15\n",
      "None\n"
     ]
    }
   ],
   "source": [
    "print(obj1 + obj2)"
   ]
  },
  {
   "cell_type": "code",
   "execution_count": 27,
   "id": "714c77a5",
   "metadata": {},
   "outputs": [],
   "source": [
    "import sys\n"
   ]
  },
  {
   "cell_type": "code",
   "execution_count": 36,
   "id": "069e1a04",
   "metadata": {},
   "outputs": [
    {
     "data": {
      "text/plain": [
       "['__breakpointhook__',\n",
       " '__displayhook__',\n",
       " '__doc__',\n",
       " '__excepthook__',\n",
       " '__interactivehook__',\n",
       " '__loader__',\n",
       " '__name__',\n",
       " '__package__',\n",
       " '__spec__',\n",
       " '__stderr__',\n",
       " '__stdin__',\n",
       " '__stdout__',\n",
       " '__unraisablehook__',\n",
       " '_base_executable',\n",
       " '_clear_type_cache',\n",
       " '_current_exceptions',\n",
       " '_current_frames',\n",
       " '_debugmallocstats',\n",
       " '_enablelegacywindowsfsencoding',\n",
       " '_framework',\n",
       " '_getframe',\n",
       " '_getquickenedcount',\n",
       " '_git',\n",
       " '_home',\n",
       " '_stdlib_dir',\n",
       " '_vpath',\n",
       " '_xoptions',\n",
       " 'addaudithook',\n",
       " 'api_version',\n",
       " 'argv',\n",
       " 'audit',\n",
       " 'base_exec_prefix',\n",
       " 'base_prefix',\n",
       " 'breakpointhook',\n",
       " 'builtin_module_names',\n",
       " 'byteorder',\n",
       " 'call_tracing',\n",
       " 'copyright',\n",
       " 'displayhook',\n",
       " 'dllhandle',\n",
       " 'dont_write_bytecode',\n",
       " 'exc_info',\n",
       " 'excepthook',\n",
       " 'exception',\n",
       " 'exec_prefix',\n",
       " 'executable',\n",
       " 'exit',\n",
       " 'flags',\n",
       " 'float_info',\n",
       " 'float_repr_style',\n",
       " 'get_asyncgen_hooks',\n",
       " 'get_coroutine_origin_tracking_depth',\n",
       " 'get_int_max_str_digits',\n",
       " 'getallocatedblocks',\n",
       " 'getdefaultencoding',\n",
       " 'getfilesystemencodeerrors',\n",
       " 'getfilesystemencoding',\n",
       " 'getprofile',\n",
       " 'getrecursionlimit',\n",
       " 'getrefcount',\n",
       " 'getsizeof',\n",
       " 'getswitchinterval',\n",
       " 'gettrace',\n",
       " 'getwindowsversion',\n",
       " 'hash_info',\n",
       " 'hexversion',\n",
       " 'implementation',\n",
       " 'int_info',\n",
       " 'intern',\n",
       " 'is_finalizing',\n",
       " 'last_traceback',\n",
       " 'last_type',\n",
       " 'last_value',\n",
       " 'maxsize',\n",
       " 'maxunicode',\n",
       " 'meta_path',\n",
       " 'modules',\n",
       " 'orig_argv',\n",
       " 'path',\n",
       " 'path_hooks',\n",
       " 'path_importer_cache',\n",
       " 'platform',\n",
       " 'platlibdir',\n",
       " 'prefix',\n",
       " 'ps1',\n",
       " 'ps2',\n",
       " 'ps3',\n",
       " 'pycache_prefix',\n",
       " 'set_asyncgen_hooks',\n",
       " 'set_coroutine_origin_tracking_depth',\n",
       " 'set_int_max_str_digits',\n",
       " 'setprofile',\n",
       " 'setrecursionlimit',\n",
       " 'setswitchinterval',\n",
       " 'settrace',\n",
       " 'stderr',\n",
       " 'stdin',\n",
       " 'stdlib_module_names',\n",
       " 'stdout',\n",
       " 'thread_info',\n",
       " 'unraisablehook',\n",
       " 'version',\n",
       " 'version_info',\n",
       " 'warnoptions',\n",
       " 'winver']"
      ]
     },
     "execution_count": 36,
     "metadata": {},
     "output_type": "execute_result"
    }
   ],
   "source": [
    "dir(sys)"
   ]
  },
  {
   "cell_type": "code",
   "execution_count": 40,
   "id": "925c139d",
   "metadata": {},
   "outputs": [
    {
     "name": "stdout",
     "output_type": "stream",
     "text": [
      "E:\\Dsa\\oopS IN PYTHON\\Magic method\n"
     ]
    }
   ],
   "source": [
    "import os\n",
    "current_dir = os.getcwd()\n",
    "print(current_dir)\n"
   ]
  },
  {
   "cell_type": "code",
   "execution_count": null,
   "id": "8f3536a4",
   "metadata": {},
   "outputs": [],
   "source": []
  }
 ],
 "metadata": {
  "kernelspec": {
   "display_name": "Python 3 (ipykernel)",
   "language": "python",
   "name": "python3"
  },
  "language_info": {
   "codemirror_mode": {
    "name": "ipython",
    "version": 3
   },
   "file_extension": ".py",
   "mimetype": "text/x-python",
   "name": "python",
   "nbconvert_exporter": "python",
   "pygments_lexer": "ipython3",
   "version": "3.11.1"
  }
 },
 "nbformat": 4,
 "nbformat_minor": 5
}
